﻿{
 "cells": [
  {
   "metadata": {},
   "cell_type": "markdown",
   "source": "# Setup",
   "id": "ac3f9cdfb62104b9"
  },
  {
   "metadata": {
    "ExecuteTime": {
     "end_time": "2024-12-01T17:47:54.176140Z",
     "start_time": "2024-12-01T17:47:54.165606Z"
    }
   },
   "cell_type": "code",
   "source": [
    "from types import MappingProxyType\n",
    "from typing import Tuple"
   ],
   "id": "c027f8329bbbdfba",
   "outputs": [],
   "execution_count": 1
  },
  {
   "metadata": {
    "ExecuteTime": {
     "end_time": "2024-12-01T17:47:55.094051Z",
     "start_time": "2024-12-01T17:47:55.085787Z"
    }
   },
   "cell_type": "code",
   "source": [
    "mapped_maze: MappingProxyType[int, Tuple[int]] = MappingProxyType({\n",
    "    1: (5,),\n",
    "    2: (3,),\n",
    "    3: (2, 7),\n",
    "    4: (8,),\n",
    "    5: (1, 6, 9),\n",
    "    6: (5, 7),\n",
    "    7: (3, 6),\n",
    "    8: (4, 12),\n",
    "    9: (5, 10, 13),\n",
    "    10: (9, 14, 11),\n",
    "    11: (10, 15, 12),\n",
    "    12: (8, 11),\n",
    "    13: (9,),\n",
    "    14: (10,),\n",
    "    15: (11, 16),\n",
    "    16: (15,),\n",
    "})"
   ],
   "id": "8b946b732518eeb5",
   "outputs": [],
   "execution_count": 2
  },
  {
   "metadata": {},
   "cell_type": "markdown",
   "source": "# Loop door de doolhof",
   "id": "c385b7c9089095e4"
  },
  {
   "metadata": {
    "ExecuteTime": {
     "end_time": "2024-12-01T17:47:58.297698Z",
     "start_time": "2024-12-01T17:47:58.285573Z"
    }
   },
   "cell_type": "code",
   "source": [
    "def run_through_maze(\n",
    "    maze: MappingProxyType[int, tuple[int, ...]],\n",
    "    previous_nodes: set[int] = set(),\n",
    "    index: int = 1,\n",
    ") -> tuple:\n",
    "    if index in previous_nodes:\n",
    "        return tuple()\n",
    "\n",
    "    next_previous_nodes = previous_nodes | {index}\n",
    "\n",
    "    # get all neighbours that haven't yet been visited\n",
    "    neighbour_nodes = tuple(\n",
    "        node for node in maze.get(index, []) if node not in next_previous_nodes)\n",
    "\n",
    "    # stop if this is a dead end (the node has no neighbours)\n",
    "    if len(neighbour_nodes) == 0:\n",
    "        return (index,)\n",
    "\n",
    "    def explore_neighbours(node: int) -> tuple[int, ...]:\n",
    "        return (index,) + run_through_maze(maze, next_previous_nodes, node)\n",
    "\n",
    "    return tuple(\n",
    "        node_result for node in neighbour_nodes for node_result in explore_neighbours(node))\n",
    "\n",
    "\n",
    "maze_result = run_through_maze(mapped_maze)\n",
    "print(maze_result)"
   ],
   "id": "1aac2a6d1a46ceef",
   "outputs": [
    {
     "name": "stdout",
     "output_type": "stream",
     "text": [
      "(1, 5, 6, 7, 3, 2, 5, 9, 10, 14, 10, 11, 15, 16, 11, 12, 8, 4, 9, 13)\n"
     ]
    }
   ],
   "execution_count": 3
  }
 ],
 "metadata": {
  "kernelspec": {
   "display_name": "Python 3",
   "language": "python",
   "name": "python3"
  },
  "language_info": {
   "codemirror_mode": {
    "name": "ipython",
    "version": 2
   },
   "file_extension": ".py",
   "mimetype": "text/x-python",
   "name": "python",
   "nbconvert_exporter": "python",
   "pygments_lexer": "ipython2",
   "version": "2.7.6"
  }
 },
 "nbformat": 4,
 "nbformat_minor": 5
}

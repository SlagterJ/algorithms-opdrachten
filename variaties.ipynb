﻿{
 "cells": [
  {
   "metadata": {},
   "cell_type": "markdown",
   "source": "# Setup",
   "id": "8c2ebd0f2736cec8"
  },
  {
   "metadata": {
    "ExecuteTime": {
     "end_time": "2024-12-01T17:45:41.808307Z",
     "start_time": "2024-12-01T17:45:41.801337Z"
    }
   },
   "cell_type": "code",
   "source": [
    "from timeit import timeit\n",
    "\n",
    "n_values = (1, 5, 10, 20, 50, 100, 200, 500, 1000, 2000, 5000, 10000)\n",
    "\n",
    "def print_result(action):\n",
    "    for n in n_values:\n",
    "        result = action(n)\n",
    "        time_taken = timeit(lambda: action(n), number=1)\n",
    "        print(\"n:\", n, \"\\n\", \"result:\", result, \"\\n\", \"time taken:\", time_taken, \"\\n\")"
   ],
   "id": "b3af8d5d8a5a14b7",
   "outputs": [],
   "execution_count": 28
  },
  {
   "metadata": {},
   "cell_type": "markdown",
   "source": "# Variatie 1",
   "id": "3f9a5c13b30ae6d1"
  },
  {
   "metadata": {
    "ExecuteTime": {
     "end_time": "2024-12-01T17:45:24.428283Z",
     "start_time": "2024-12-01T17:45:07.781562Z"
    }
   },
   "cell_type": "code",
   "source": [
    "def variation_one(n_value: int) -> int:\n",
    "    total = 0\n",
    "\n",
    "    for index_outer in range(n_value):\n",
    "        for index_inner in range(n_value):\n",
    "            total += 1\n",
    "\n",
    "    return total\n",
    "\n",
    "print_result(variation_one)"
   ],
   "id": "2fb088a503834035",
   "outputs": [
    {
     "name": "stdout",
     "output_type": "stream",
     "text": [
      "n: 1 \n",
      " result: 1 \n",
      " time taken: 3.3999967854470015e-06\n",
      "n: 5 \n",
      " result: 25 \n",
      " time taken: 5.4000120144337416e-06\n",
      "n: 10 \n",
      " result: 100 \n",
      " time taken: 6.999995093792677e-06\n",
      "n: 20 \n",
      " result: 400 \n",
      " time taken: 2.0000006770715117e-05\n",
      "n: 50 \n",
      " result: 2500 \n",
      " time taken: 0.00012470001820474863\n",
      "n: 100 \n",
      " result: 10000 \n",
      " time taken: 0.0004881000204477459\n",
      "n: 200 \n",
      " result: 40000 \n",
      " time taken: 0.0024256999895442277\n",
      "n: 500 \n",
      " result: 250000 \n",
      " time taken: 0.015277700003935024\n",
      "n: 1000 \n",
      " result: 1000000 \n",
      " time taken: 0.06960069999331608\n",
      "n: 2000 \n",
      " result: 4000000 \n",
      " time taken: 0.3131796999950893\n",
      "n: 5000 \n",
      " result: 25000000 \n",
      " time taken: 1.7525344000023324\n"
     ]
    },
    {
     "ename": "KeyboardInterrupt",
     "evalue": "",
     "output_type": "error",
     "traceback": [
      "\u001B[1;31m---------------------------------------------------------------------------\u001B[0m",
      "\u001B[1;31mKeyboardInterrupt\u001B[0m                         Traceback (most recent call last)",
      "Cell \u001B[1;32mIn[25], line 10\u001B[0m\n\u001B[0;32m      6\u001B[0m             total \u001B[38;5;241m+\u001B[39m\u001B[38;5;241m=\u001B[39m \u001B[38;5;241m1\u001B[39m\n\u001B[0;32m      8\u001B[0m     \u001B[38;5;28;01mreturn\u001B[39;00m total\n\u001B[1;32m---> 10\u001B[0m \u001B[43mprint_result\u001B[49m\u001B[43m(\u001B[49m\u001B[43mvariation_one\u001B[49m\u001B[43m)\u001B[49m\n",
      "Cell \u001B[1;32mIn[24], line 8\u001B[0m, in \u001B[0;36mprint_result\u001B[1;34m(action)\u001B[0m\n\u001B[0;32m      6\u001B[0m \u001B[38;5;28;01mfor\u001B[39;00m n \u001B[38;5;129;01min\u001B[39;00m n_values:\n\u001B[0;32m      7\u001B[0m     result \u001B[38;5;241m=\u001B[39m action(n)\n\u001B[1;32m----> 8\u001B[0m     time_taken \u001B[38;5;241m=\u001B[39m \u001B[43mtimeit\u001B[49m\u001B[43m(\u001B[49m\u001B[38;5;28;43;01mlambda\u001B[39;49;00m\u001B[43m:\u001B[49m\u001B[43m \u001B[49m\u001B[43maction\u001B[49m\u001B[43m(\u001B[49m\u001B[43mn\u001B[49m\u001B[43m)\u001B[49m\u001B[43m,\u001B[49m\u001B[43m \u001B[49m\u001B[43mnumber\u001B[49m\u001B[38;5;241;43m=\u001B[39;49m\u001B[38;5;241;43m1\u001B[39;49m\u001B[43m)\u001B[49m\n\u001B[0;32m      9\u001B[0m     \u001B[38;5;28mprint\u001B[39m(\u001B[38;5;124m\"\u001B[39m\u001B[38;5;124mn:\u001B[39m\u001B[38;5;124m\"\u001B[39m, n, \u001B[38;5;124m\"\u001B[39m\u001B[38;5;130;01m\\n\u001B[39;00m\u001B[38;5;124m\"\u001B[39m, \u001B[38;5;124m\"\u001B[39m\u001B[38;5;124mresult:\u001B[39m\u001B[38;5;124m\"\u001B[39m, result, \u001B[38;5;124m\"\u001B[39m\u001B[38;5;130;01m\\n\u001B[39;00m\u001B[38;5;124m\"\u001B[39m, \u001B[38;5;124m\"\u001B[39m\u001B[38;5;124mtime taken:\u001B[39m\u001B[38;5;124m\"\u001B[39m, time_taken)\n",
      "File \u001B[1;32m~\\AppData\\Local\\Programs\\Python\\Python312\\Lib\\timeit.py:237\u001B[0m, in \u001B[0;36mtimeit\u001B[1;34m(stmt, setup, timer, number, globals)\u001B[0m\n\u001B[0;32m    234\u001B[0m \u001B[38;5;28;01mdef\u001B[39;00m \u001B[38;5;21mtimeit\u001B[39m(stmt\u001B[38;5;241m=\u001B[39m\u001B[38;5;124m\"\u001B[39m\u001B[38;5;124mpass\u001B[39m\u001B[38;5;124m\"\u001B[39m, setup\u001B[38;5;241m=\u001B[39m\u001B[38;5;124m\"\u001B[39m\u001B[38;5;124mpass\u001B[39m\u001B[38;5;124m\"\u001B[39m, timer\u001B[38;5;241m=\u001B[39mdefault_timer,\n\u001B[0;32m    235\u001B[0m            number\u001B[38;5;241m=\u001B[39mdefault_number, \u001B[38;5;28mglobals\u001B[39m\u001B[38;5;241m=\u001B[39m\u001B[38;5;28;01mNone\u001B[39;00m):\n\u001B[0;32m    236\u001B[0m \u001B[38;5;250m    \u001B[39m\u001B[38;5;124;03m\"\"\"Convenience function to create Timer object and call timeit method.\"\"\"\u001B[39;00m\n\u001B[1;32m--> 237\u001B[0m     \u001B[38;5;28;01mreturn\u001B[39;00m \u001B[43mTimer\u001B[49m\u001B[43m(\u001B[49m\u001B[43mstmt\u001B[49m\u001B[43m,\u001B[49m\u001B[43m \u001B[49m\u001B[43msetup\u001B[49m\u001B[43m,\u001B[49m\u001B[43m \u001B[49m\u001B[43mtimer\u001B[49m\u001B[43m,\u001B[49m\u001B[43m \u001B[49m\u001B[38;5;28;43mglobals\u001B[39;49m\u001B[43m)\u001B[49m\u001B[38;5;241;43m.\u001B[39;49m\u001B[43mtimeit\u001B[49m\u001B[43m(\u001B[49m\u001B[43mnumber\u001B[49m\u001B[43m)\u001B[49m\n",
      "File \u001B[1;32m~\\AppData\\Local\\Programs\\Python\\Python312\\Lib\\timeit.py:180\u001B[0m, in \u001B[0;36mTimer.timeit\u001B[1;34m(self, number)\u001B[0m\n\u001B[0;32m    178\u001B[0m gc\u001B[38;5;241m.\u001B[39mdisable()\n\u001B[0;32m    179\u001B[0m \u001B[38;5;28;01mtry\u001B[39;00m:\n\u001B[1;32m--> 180\u001B[0m     timing \u001B[38;5;241m=\u001B[39m \u001B[38;5;28;43mself\u001B[39;49m\u001B[38;5;241;43m.\u001B[39;49m\u001B[43minner\u001B[49m\u001B[43m(\u001B[49m\u001B[43mit\u001B[49m\u001B[43m,\u001B[49m\u001B[43m \u001B[49m\u001B[38;5;28;43mself\u001B[39;49m\u001B[38;5;241;43m.\u001B[39;49m\u001B[43mtimer\u001B[49m\u001B[43m)\u001B[49m\n\u001B[0;32m    181\u001B[0m \u001B[38;5;28;01mfinally\u001B[39;00m:\n\u001B[0;32m    182\u001B[0m     \u001B[38;5;28;01mif\u001B[39;00m gcold:\n",
      "File \u001B[1;32m<timeit-src>:6\u001B[0m, in \u001B[0;36minner\u001B[1;34m(_it, _timer, _stmt)\u001B[0m\n",
      "Cell \u001B[1;32mIn[24], line 8\u001B[0m, in \u001B[0;36mprint_result.<locals>.<lambda>\u001B[1;34m()\u001B[0m\n\u001B[0;32m      6\u001B[0m \u001B[38;5;28;01mfor\u001B[39;00m n \u001B[38;5;129;01min\u001B[39;00m n_values:\n\u001B[0;32m      7\u001B[0m     result \u001B[38;5;241m=\u001B[39m action(n)\n\u001B[1;32m----> 8\u001B[0m     time_taken \u001B[38;5;241m=\u001B[39m timeit(\u001B[38;5;28;01mlambda\u001B[39;00m: \u001B[43maction\u001B[49m\u001B[43m(\u001B[49m\u001B[43mn\u001B[49m\u001B[43m)\u001B[49m, number\u001B[38;5;241m=\u001B[39m\u001B[38;5;241m1\u001B[39m)\n\u001B[0;32m      9\u001B[0m     \u001B[38;5;28mprint\u001B[39m(\u001B[38;5;124m\"\u001B[39m\u001B[38;5;124mn:\u001B[39m\u001B[38;5;124m\"\u001B[39m, n, \u001B[38;5;124m\"\u001B[39m\u001B[38;5;130;01m\\n\u001B[39;00m\u001B[38;5;124m\"\u001B[39m, \u001B[38;5;124m\"\u001B[39m\u001B[38;5;124mresult:\u001B[39m\u001B[38;5;124m\"\u001B[39m, result, \u001B[38;5;124m\"\u001B[39m\u001B[38;5;130;01m\\n\u001B[39;00m\u001B[38;5;124m\"\u001B[39m, \u001B[38;5;124m\"\u001B[39m\u001B[38;5;124mtime taken:\u001B[39m\u001B[38;5;124m\"\u001B[39m, time_taken)\n",
      "Cell \u001B[1;32mIn[25], line 6\u001B[0m, in \u001B[0;36mvariation_one\u001B[1;34m(n_value)\u001B[0m\n\u001B[0;32m      4\u001B[0m \u001B[38;5;28;01mfor\u001B[39;00m index_outer \u001B[38;5;129;01min\u001B[39;00m \u001B[38;5;28mrange\u001B[39m(n_value):\n\u001B[0;32m      5\u001B[0m     \u001B[38;5;28;01mfor\u001B[39;00m index_inner \u001B[38;5;129;01min\u001B[39;00m \u001B[38;5;28mrange\u001B[39m(n_value):\n\u001B[1;32m----> 6\u001B[0m         total \u001B[38;5;241m+\u001B[39m\u001B[38;5;241m=\u001B[39m \u001B[38;5;241m1\u001B[39m\n\u001B[0;32m      8\u001B[0m \u001B[38;5;28;01mreturn\u001B[39;00m total\n",
      "\u001B[1;31mKeyboardInterrupt\u001B[0m: "
     ]
    }
   ],
   "execution_count": 25
  },
  {
   "metadata": {},
   "cell_type": "markdown",
   "source": "# Variatie 2",
   "id": "e4194009d45a542d"
  },
  {
   "metadata": {
    "ExecuteTime": {
     "end_time": "2024-12-01T17:42:13.133539Z",
     "start_time": "2024-12-01T17:42:07.636811Z"
    }
   },
   "cell_type": "code",
   "source": [
    "def variation_two(n_value: int) -> int:\n",
    "    total = 0\n",
    "\n",
    "    for index_outer in range(n_value):\n",
    "        for index_inner in range( index_outer ):\n",
    "            total += 1\n",
    "\n",
    "    return total\n",
    "\n",
    "print_result(variation_two)"
   ],
   "id": "77dfa0d5a64fd2c6",
   "outputs": [
    {
     "name": "stdout",
     "output_type": "stream",
     "text": [
      "1 \t\t 0 \t\t 2.2999884095042944e-06\n",
      "5 \t\t 10 \t\t 2.200016751885414e-06\n",
      "10 \t\t 45 \t\t 2.8999929782003164e-06\n",
      "20 \t\t 190 \t\t 6.399990525096655e-06\n",
      "50 \t\t 1225 \t\t 4.980000085197389e-05\n",
      "100 \t\t 4950 \t\t 0.00015090001397766173\n",
      "200 \t\t 19900 \t\t 0.000598000013269484\n",
      "500 \t\t 124750 \t\t 0.003995800012489781\n",
      "1000 \t\t 499500 \t\t 0.018571599997812882\n",
      "2000 \t\t 1999000 \t\t 0.07463080002344213\n",
      "5000 \t\t 12497500 \t\t 0.5000171000137925\n",
      "10000 \t\t 49995000 \t\t 2.1558953000057954\n"
     ]
    }
   ],
   "execution_count": 12
  },
  {
   "metadata": {},
   "cell_type": "markdown",
   "source": "# Variatie 3",
   "id": "fa16984b4df6f059"
  },
  {
   "metadata": {},
   "cell_type": "code",
   "outputs": [],
   "execution_count": null,
   "source": [
    "def variation_three(n_value: int) -> int:\n",
    "    total = 0\n",
    "\n",
    "    index_outer = 1\n",
    "    while index_outer < n_value:\n",
    "        index_inner = 0\n",
    "        while index_inner < n_value:\n",
    "            total += 1\n",
    "\n",
    "            index_inner += 1\n",
    "        index_outer *= 2\n",
    "\n",
    "    return total\n",
    "\n",
    "print_result(variation_three)"
   ],
   "id": "6bfcb655c4bdde12"
  },
  {
   "metadata": {},
   "cell_type": "markdown",
   "source": "# Variatie 4",
   "id": "8cdaf50b2e2d840d"
  },
  {
   "metadata": {
    "ExecuteTime": {
     "end_time": "2024-12-01T17:43:35.037763Z",
     "start_time": "2024-12-01T17:43:35.026438Z"
    }
   },
   "cell_type": "code",
   "source": [
    "def variation_four(n_value: int) -> int:\n",
    "    total = 0\n",
    "\n",
    "    index_outer = 1\n",
    "    while index_outer < n_value:\n",
    "        index_inner = 0\n",
    "        while index_inner < index_outer:\n",
    "            total += 1\n",
    "\n",
    "            index_inner += 1\n",
    "        index_outer *= 2\n",
    "\n",
    "    return total\n",
    "\n",
    "print_result(variation_four)"
   ],
   "id": "692fce7ac15a4d26",
   "outputs": [
    {
     "name": "stdout",
     "output_type": "stream",
     "text": [
      "1 \t\t 0 \t\t 1.00000761449337e-06\n",
      "5 \t\t 7 \t\t 1.300009898841381e-06\n",
      "10 \t\t 15 \t\t 1.5999830793589354e-06\n",
      "20 \t\t 31 \t\t 2.0999868866056204e-06\n",
      "50 \t\t 63 \t\t 3.1999952625483274e-06\n",
      "100 \t\t 127 \t\t 5.4000120144337416e-06\n",
      "200 \t\t 255 \t\t 1.0299991117790341e-05\n",
      "500 \t\t 511 \t\t 3.329999162815511e-05\n",
      "1000 \t\t 1023 \t\t 4.770001396536827e-05\n",
      "2000 \t\t 2047 \t\t 0.00010079998173750937\n",
      "5000 \t\t 8191 \t\t 0.00040869999793358147\n",
      "10000 \t\t 16383 \t\t 0.0009098000009544194\n"
     ]
    }
   ],
   "execution_count": 18
  },
  {
   "metadata": {},
   "cell_type": "markdown",
   "source": "# Variatie 5",
   "id": "938e68f0cd7473bc"
  },
  {
   "metadata": {
    "ExecuteTime": {
     "end_time": "2024-12-01T17:45:45.478689Z",
     "start_time": "2024-12-01T17:45:45.467897Z"
    }
   },
   "cell_type": "code",
   "source": [
    "def variation_five(n_value: int) -> int:\n",
    "    total = 0\n",
    "\n",
    "    index_outer = 1\n",
    "    while index_outer < n_value:\n",
    "        index_inner = 1\n",
    "        while index_inner < n_value:\n",
    "            total += 1\n",
    "\n",
    "            index_inner *= 2\n",
    "        index_outer *= 2\n",
    "\n",
    "    return total\n",
    "\n",
    "print_result(variation_five)"
   ],
   "id": "38b094135ba342f2",
   "outputs": [
    {
     "name": "stdout",
     "output_type": "stream",
     "text": [
      "n: 1 \n",
      " result: 0 \n",
      " time taken: 2.500019036233425e-06 \n",
      "\n",
      "n: 5 \n",
      " result: 9 \n",
      " time taken: 4.599976819008589e-06 \n",
      "\n",
      "n: 10 \n",
      " result: 16 \n",
      " time taken: 6.599992047995329e-06 \n",
      "\n",
      "n: 20 \n",
      " result: 25 \n",
      " time taken: 9.400013368576765e-06 \n",
      "\n",
      "n: 50 \n",
      " result: 36 \n",
      " time taken: 9.000010322779417e-06 \n",
      "\n",
      "n: 100 \n",
      " result: 49 \n",
      " time taken: 1.1199997970834374e-05 \n",
      "\n",
      "n: 200 \n",
      " result: 64 \n",
      " time taken: 5.900015821680427e-06 \n",
      "\n",
      "n: 500 \n",
      " result: 81 \n",
      " time taken: 6.999995093792677e-06 \n",
      "\n",
      "n: 1000 \n",
      " result: 100 \n",
      " time taken: 8.599978173151612e-06 \n",
      "\n",
      "n: 2000 \n",
      " result: 121 \n",
      " time taken: 1.0199990356341004e-05 \n",
      "\n",
      "n: 5000 \n",
      " result: 169 \n",
      " time taken: 1.3499986380338669e-05 \n",
      "\n",
      "n: 10000 \n",
      " result: 196 \n",
      " time taken: 1.5700003132224083e-05 \n",
      "\n"
     ]
    }
   ],
   "execution_count": 29
  }
 ],
 "metadata": {
  "kernelspec": {
   "display_name": "Python 3",
   "language": "python",
   "name": "python3"
  },
  "language_info": {
   "codemirror_mode": {
    "name": "ipython",
    "version": 2
   },
   "file_extension": ".py",
   "mimetype": "text/x-python",
   "name": "python",
   "nbconvert_exporter": "python",
   "pygments_lexer": "ipython2",
   "version": "2.7.6"
  }
 },
 "nbformat": 4,
 "nbformat_minor": 5
}

﻿{
 "cells": [
  {
   "metadata": {},
   "cell_type": "markdown",
   "source": "# Setup",
   "id": "8c2ebd0f2736cec8"
  },
  {
   "metadata": {
    "ExecuteTime": {
     "end_time": "2024-12-01T17:49:38.870778Z",
     "start_time": "2024-12-01T17:49:38.862096Z"
    }
   },
   "cell_type": "code",
   "source": [
    "from timeit import timeit\n",
    "\n",
    "n_values = (1, 5, 10, 20, 50, 100, 200, 500, 1000, 2000, 5000, 10000)\n",
    "\n",
    "def print_result(action):\n",
    "    for n in n_values:\n",
    "        result = action(n)\n",
    "        time_taken = timeit(lambda: action(n), number=1)\n",
    "        print(\"n:\", n, \"\\n\", \"result:\", result, \"\\n\", \"time taken:\", time_taken, \"\\n\")"
   ],
   "id": "b3af8d5d8a5a14b7",
   "outputs": [],
   "execution_count": 30
  },
  {
   "metadata": {},
   "cell_type": "markdown",
   "source": "# Variatie 1",
   "id": "3f9a5c13b30ae6d1"
  },
  {
   "metadata": {
    "ExecuteTime": {
     "end_time": "2024-12-01T17:49:59.060969Z",
     "start_time": "2024-12-01T17:49:38.890024Z"
    }
   },
   "cell_type": "code",
   "source": [
    "def variation_one(n_value: int) -> int:\n",
    "    total = 0\n",
    "\n",
    "    for index_outer in range(n_value):\n",
    "        for index_inner in range(n_value):\n",
    "            total += 1\n",
    "\n",
    "    return total\n",
    "\n",
    "print_result(variation_one)"
   ],
   "id": "2fb088a503834035",
   "outputs": [
    {
     "name": "stdout",
     "output_type": "stream",
     "text": [
      "n: 1 \n",
      " result: 1 \n",
      " time taken: 4.5000051613897085e-06 \n",
      "\n",
      "n: 5 \n",
      " result: 25 \n",
      " time taken: 5.89998671784997e-06 \n",
      "\n",
      "n: 10 \n",
      " result: 100 \n",
      " time taken: 2.139998832717538e-05 \n",
      "\n",
      "n: 20 \n",
      " result: 400 \n",
      " time taken: 3.4199998481199145e-05 \n",
      "\n",
      "n: 50 \n",
      " result: 2500 \n",
      " time taken: 0.0001252999936696142 \n",
      "\n",
      "n: 100 \n",
      " result: 10000 \n",
      " time taken: 0.0005250999820418656 \n",
      "\n",
      "n: 200 \n",
      " result: 40000 \n",
      " time taken: 0.003463100001681596 \n",
      "\n",
      "n: 500 \n",
      " result: 250000 \n",
      " time taken: 0.0166398000146728 \n",
      "\n",
      "n: 1000 \n",
      " result: 1000000 \n",
      " time taken: 0.06818689999636263 \n",
      "\n",
      "n: 2000 \n",
      " result: 4000000 \n",
      " time taken: 0.2731760999886319 \n",
      "\n",
      "n: 5000 \n",
      " result: 25000000 \n",
      " time taken: 1.7383185000217054 \n",
      "\n",
      "n: 10000 \n",
      " result: 100000000 \n",
      " time taken: 8.658762100007152 \n",
      "\n"
     ]
    }
   ],
   "execution_count": 31
  },
  {
   "metadata": {},
   "cell_type": "markdown",
   "source": "# Variatie 2",
   "id": "e4194009d45a542d"
  },
  {
   "metadata": {
    "ExecuteTime": {
     "end_time": "2024-12-01T17:50:04.691763Z",
     "start_time": "2024-12-01T17:49:59.071812Z"
    }
   },
   "cell_type": "code",
   "source": [
    "def variation_two(n_value: int) -> int:\n",
    "    total = 0\n",
    "\n",
    "    for index_outer in range(n_value):\n",
    "        for index_inner in range( index_outer ):\n",
    "            total += 1\n",
    "\n",
    "    return total\n",
    "\n",
    "print_result(variation_two)"
   ],
   "id": "77dfa0d5a64fd2c6",
   "outputs": [
    {
     "name": "stdout",
     "output_type": "stream",
     "text": [
      "n: 1 \n",
      " result: 0 \n",
      " time taken: 2.7999922167509794e-06 \n",
      "\n",
      "n: 5 \n",
      " result: 10 \n",
      " time taken: 3.3999967854470015e-06 \n",
      "\n",
      "n: 10 \n",
      " result: 45 \n",
      " time taken: 5.599984433501959e-06 \n",
      "\n",
      "n: 20 \n",
      " result: 190 \n",
      " time taken: 1.270000939257443e-05 \n",
      "\n",
      "n: 50 \n",
      " result: 1225 \n",
      " time taken: 7.610002649016678e-05 \n",
      "\n",
      "n: 100 \n",
      " result: 4950 \n",
      " time taken: 0.0002948000037577003 \n",
      "\n",
      "n: 200 \n",
      " result: 19900 \n",
      " time taken: 0.001156499987700954 \n",
      "\n",
      "n: 500 \n",
      " result: 124750 \n",
      " time taken: 0.0062766000046394765 \n",
      "\n",
      "n: 1000 \n",
      " result: 499500 \n",
      " time taken: 0.019308999995701015 \n",
      "\n",
      "n: 2000 \n",
      " result: 1999000 \n",
      " time taken: 0.07663130000582896 \n",
      "\n",
      "n: 5000 \n",
      " result: 12497500 \n",
      " time taken: 0.5286352999974042 \n",
      "\n",
      "n: 10000 \n",
      " result: 49995000 \n",
      " time taken: 2.1541653999884147 \n",
      "\n"
     ]
    }
   ],
   "execution_count": 32
  },
  {
   "metadata": {},
   "cell_type": "markdown",
   "source": "# Variatie 3",
   "id": "fa16984b4df6f059"
  },
  {
   "metadata": {
    "ExecuteTime": {
     "end_time": "2024-12-01T17:50:04.748238Z",
     "start_time": "2024-12-01T17:50:04.707465Z"
    }
   },
   "cell_type": "code",
   "source": [
    "def variation_three(n_value: int) -> int:\n",
    "    total = 0\n",
    "\n",
    "    index_outer = 1\n",
    "    while index_outer < n_value:\n",
    "        index_inner = 0\n",
    "        while index_inner < n_value:\n",
    "            total += 1\n",
    "\n",
    "            index_inner += 1\n",
    "        index_outer *= 2\n",
    "\n",
    "    return total\n",
    "\n",
    "print_result(variation_three)"
   ],
   "id": "6bfcb655c4bdde12",
   "outputs": [
    {
     "name": "stdout",
     "output_type": "stream",
     "text": [
      "n: 1 \n",
      " result: 0 \n",
      " time taken: 1.500011421740055e-06 \n",
      "\n",
      "n: 5 \n",
      " result: 15 \n",
      " time taken: 1.9000144675374031e-06 \n",
      "\n",
      "n: 10 \n",
      " result: 40 \n",
      " time taken: 4.1000021155923605e-06 \n",
      "\n",
      "n: 20 \n",
      " result: 100 \n",
      " time taken: 1.200000406242907e-05 \n",
      "\n",
      "n: 50 \n",
      " result: 300 \n",
      " time taken: 1.6300007700920105e-05 \n",
      "\n",
      "n: 100 \n",
      " result: 700 \n",
      " time taken: 3.029999788850546e-05 \n",
      "\n",
      "n: 200 \n",
      " result: 1600 \n",
      " time taken: 0.00018649999401532114 \n",
      "\n",
      "n: 500 \n",
      " result: 4500 \n",
      " time taken: 0.00021639998885802925 \n",
      "\n",
      "n: 1000 \n",
      " result: 10000 \n",
      " time taken: 0.0005048000020906329 \n",
      "\n",
      "n: 2000 \n",
      " result: 22000 \n",
      " time taken: 0.0026873000024352223 \n",
      "\n",
      "n: 5000 \n",
      " result: 65000 \n",
      " time taken: 0.0034414000110700727 \n",
      "\n",
      "n: 10000 \n",
      " result: 140000 \n",
      " time taken: 0.008981199993286282 \n",
      "\n"
     ]
    }
   ],
   "execution_count": 33
  },
  {
   "metadata": {},
   "cell_type": "markdown",
   "source": "# Variatie 4",
   "id": "8cdaf50b2e2d840d"
  },
  {
   "metadata": {
    "ExecuteTime": {
     "end_time": "2024-12-01T17:50:04.775164Z",
     "start_time": "2024-12-01T17:50:04.759852Z"
    }
   },
   "cell_type": "code",
   "source": [
    "def variation_four(n_value: int) -> int:\n",
    "    total = 0\n",
    "\n",
    "    index_outer = 1\n",
    "    while index_outer < n_value:\n",
    "        index_inner = 0\n",
    "        while index_inner < index_outer:\n",
    "            total += 1\n",
    "\n",
    "            index_inner += 1\n",
    "        index_outer *= 2\n",
    "\n",
    "    return total\n",
    "\n",
    "print_result(variation_four)"
   ],
   "id": "692fce7ac15a4d26",
   "outputs": [
    {
     "name": "stdout",
     "output_type": "stream",
     "text": [
      "n: 1 \n",
      " result: 0 \n",
      " time taken: 1.00000761449337e-06 \n",
      "\n",
      "n: 5 \n",
      " result: 7 \n",
      " time taken: 3.1999952625483274e-06 \n",
      "\n",
      "n: 10 \n",
      " result: 15 \n",
      " time taken: 4.3000036384910345e-06 \n",
      "\n",
      "n: 20 \n",
      " result: 31 \n",
      " time taken: 4.8000074457377195e-06 \n",
      "\n",
      "n: 50 \n",
      " result: 63 \n",
      " time taken: 7.099995855242014e-06 \n",
      "\n",
      "n: 100 \n",
      " result: 127 \n",
      " time taken: 1.170000177808106e-05 \n",
      "\n",
      "n: 200 \n",
      " result: 255 \n",
      " time taken: 1.750001683831215e-05 \n",
      "\n",
      "n: 500 \n",
      " result: 511 \n",
      " time taken: 4.080001963302493e-05 \n",
      "\n",
      "n: 1000 \n",
      " result: 1023 \n",
      " time taken: 8.939998224377632e-05 \n",
      "\n",
      "n: 2000 \n",
      " result: 2047 \n",
      " time taken: 0.00019699998665601015 \n",
      "\n",
      "n: 5000 \n",
      " result: 8191 \n",
      " time taken: 0.0008994000090751797 \n",
      "\n",
      "n: 10000 \n",
      " result: 16383 \n",
      " time taken: 0.001807399996323511 \n",
      "\n"
     ]
    }
   ],
   "execution_count": 34
  },
  {
   "metadata": {},
   "cell_type": "markdown",
   "source": "# Variatie 5",
   "id": "938e68f0cd7473bc"
  },
  {
   "metadata": {
    "ExecuteTime": {
     "end_time": "2024-12-01T17:50:04.797614Z",
     "start_time": "2024-12-01T17:50:04.789447Z"
    }
   },
   "cell_type": "code",
   "source": [
    "def variation_five(n_value: int) -> int:\n",
    "    total = 0\n",
    "\n",
    "    index_outer = 1\n",
    "    while index_outer < n_value:\n",
    "        index_inner = 1\n",
    "        while index_inner < n_value:\n",
    "            total += 1\n",
    "\n",
    "            index_inner *= 2\n",
    "        index_outer *= 2\n",
    "\n",
    "    return total\n",
    "\n",
    "print_result(variation_five)"
   ],
   "id": "38b094135ba342f2",
   "outputs": [
    {
     "name": "stdout",
     "output_type": "stream",
     "text": [
      "n: 1 \n",
      " result: 0 \n",
      " time taken: 1.6999838408082724e-06 \n",
      "\n",
      "n: 5 \n",
      " result: 9 \n",
      " time taken: 2.3999891709536314e-06 \n",
      "\n",
      "n: 10 \n",
      " result: 16 \n",
      " time taken: 2.6999914553016424e-06 \n",
      "\n",
      "n: 20 \n",
      " result: 25 \n",
      " time taken: 3.2999960239976645e-06 \n",
      "\n",
      "n: 50 \n",
      " result: 36 \n",
      " time taken: 4.0000013541430235e-06 \n",
      "\n",
      "n: 100 \n",
      " result: 49 \n",
      " time taken: 5.499983672052622e-06 \n",
      "\n",
      "n: 200 \n",
      " result: 64 \n",
      " time taken: 6.799993570894003e-06 \n",
      "\n",
      "n: 500 \n",
      " result: 81 \n",
      " time taken: 7.90000194683671e-06 \n",
      "\n",
      "n: 1000 \n",
      " result: 100 \n",
      " time taken: 1.0299991117790341e-05 \n",
      "\n",
      "n: 2000 \n",
      " result: 121 \n",
      " time taken: 1.1099997209385037e-05 \n",
      "\n",
      "n: 5000 \n",
      " result: 169 \n",
      " time taken: 1.6900012269616127e-05 \n",
      "\n",
      "n: 10000 \n",
      " result: 196 \n",
      " time taken: 1.960000372491777e-05 \n",
      "\n"
     ]
    }
   ],
   "execution_count": 35
  }
 ],
 "metadata": {
  "kernelspec": {
   "display_name": "Python 3",
   "language": "python",
   "name": "python3"
  },
  "language_info": {
   "codemirror_mode": {
    "name": "ipython",
    "version": 2
   },
   "file_extension": ".py",
   "mimetype": "text/x-python",
   "name": "python",
   "nbconvert_exporter": "python",
   "pygments_lexer": "ipython2",
   "version": "2.7.6"
  }
 },
 "nbformat": 4,
 "nbformat_minor": 5
}

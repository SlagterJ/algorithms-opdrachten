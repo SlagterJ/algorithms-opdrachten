﻿{
 "cells": [
  {
   "metadata": {},
   "cell_type": "markdown",
   "source": "# Setup",
   "id": "8c2ebd0f2736cec8"
  },
  {
   "metadata": {
    "ExecuteTime": {
     "end_time": "2024-12-03T14:10:19.307247Z",
     "start_time": "2024-12-03T14:10:19.294852Z"
    }
   },
   "cell_type": "code",
   "source": [
    "from timeit import timeit\n",
    "\n",
    "n_values = (1, 5, 10, 20, 50, 100, 200, 500, 1000, 2000, 5000, 10000)\n",
    "\n",
    "def print_result(action):\n",
    "    for n in n_values:\n",
    "        result = action(n)\n",
    "        time_taken = timeit(lambda: action(n), number=100)\n",
    "        print(\"n:\", n, \"\\n\", \"result:\", result, \"\\n\", \"time taken:\", time_taken, \"\\n\")"
   ],
   "id": "b3af8d5d8a5a14b7",
   "outputs": [],
   "execution_count": 17
  },
  {
   "metadata": {},
   "cell_type": "markdown",
   "source": "# Variatie 1",
   "id": "3f9a5c13b30ae6d1"
  },
  {
   "metadata": {
    "ExecuteTime": {
     "end_time": "2024-12-03T14:18:08.825520Z",
     "start_time": "2024-12-03T14:10:21.447444Z"
    }
   },
   "cell_type": "code",
   "source": [
    "def variation_one(n_value: int) -> int:\n",
    "    total = 0\n",
    "\n",
    "    for index_outer in range(n_value):\n",
    "        for index_inner in range(n_value):\n",
    "            total += 1\n",
    "\n",
    "    return total\n",
    "\n",
    "print_result(variation_one)"
   ],
   "id": "2fb088a503834035",
   "outputs": [
    {
     "name": "stdout",
     "output_type": "stream",
     "text": [
      "n: 1 \n",
      " result: 1 \n",
      " time taken: 3.3400021493434906e-05 \n",
      "\n",
      "n: 5 \n",
      " result: 25 \n",
      " time taken: 0.00020300003234297037 \n",
      "\n",
      "n: 10 \n",
      " result: 100 \n",
      " time taken: 0.0003782000276260078 \n",
      "\n",
      "n: 20 \n",
      " result: 400 \n",
      " time taken: 0.001395900035277009 \n",
      "\n",
      "n: 50 \n",
      " result: 2500 \n",
      " time taken: 0.009546399989631027 \n",
      "\n",
      "n: 100 \n",
      " result: 10000 \n",
      " time taken: 0.04171719995792955 \n",
      "\n",
      "n: 200 \n",
      " result: 40000 \n",
      " time taken: 0.15447830001357943 \n",
      "\n",
      "n: 500 \n",
      " result: 250000 \n",
      " time taken: 1.015092400019057 \n",
      "\n",
      "n: 1000 \n",
      " result: 1000000 \n",
      " time taken: 4.416135200008284 \n",
      "\n",
      "n: 2000 \n",
      " result: 4000000 \n",
      " time taken: 13.715048699988984 \n",
      "\n",
      "n: 5000 \n",
      " result: 25000000 \n",
      " time taken: 86.74523960001534 \n",
      "\n",
      "n: 10000 \n",
      " result: 100000000 \n",
      " time taken: 356.6857344000018 \n",
      "\n"
     ]
    }
   ],
   "execution_count": 18
  },
  {
   "metadata": {},
   "cell_type": "markdown",
   "source": "# Variatie 2",
   "id": "e4194009d45a542d"
  },
  {
   "metadata": {
    "ExecuteTime": {
     "end_time": "2024-12-03T14:22:27.518746Z",
     "start_time": "2024-12-03T14:18:30.607186Z"
    }
   },
   "cell_type": "code",
   "source": [
    "def variation_two(n_value: int) -> int:\n",
    "    total = 0\n",
    "\n",
    "    for index_outer in range(n_value):\n",
    "        for index_inner in range( index_outer ):\n",
    "            total += 1\n",
    "\n",
    "    return total\n",
    "\n",
    "print_result(variation_two)"
   ],
   "id": "77dfa0d5a64fd2c6",
   "outputs": [
    {
     "name": "stdout",
     "output_type": "stream",
     "text": [
      "n: 1 \n",
      " result: 0 \n",
      " time taken: 3.190001007169485e-05 \n",
      "\n",
      "n: 5 \n",
      " result: 10 \n",
      " time taken: 9.23000043258071e-05 \n",
      "\n",
      "n: 10 \n",
      " result: 45 \n",
      " time taken: 0.00023669999791309237 \n",
      "\n",
      "n: 20 \n",
      " result: 190 \n",
      " time taken: 0.000832799996715039 \n",
      "\n",
      "n: 50 \n",
      " result: 1225 \n",
      " time taken: 0.005223300016950816 \n",
      "\n",
      "n: 100 \n",
      " result: 4950 \n",
      " time taken: 0.018378400010988116 \n",
      "\n",
      "n: 200 \n",
      " result: 19900 \n",
      " time taken: 0.08269820001441985 \n",
      "\n",
      "n: 500 \n",
      " result: 124750 \n",
      " time taken: 0.48957750003319234 \n",
      "\n",
      "n: 1000 \n",
      " result: 499500 \n",
      " time taken: 2.1135859000496566 \n",
      "\n",
      "n: 2000 \n",
      " result: 1999000 \n",
      " time taken: 7.858636899967678 \n",
      "\n",
      "n: 5000 \n",
      " result: 12497500 \n",
      " time taken: 43.30136159999529 \n",
      "\n",
      "n: 10000 \n",
      " result: 49995000 \n",
      " time taken: 180.5632158999797 \n",
      "\n"
     ]
    }
   ],
   "execution_count": 19
  },
  {
   "metadata": {},
   "cell_type": "markdown",
   "source": "# Variatie 3",
   "id": "fa16984b4df6f059"
  },
  {
   "metadata": {
    "ExecuteTime": {
     "end_time": "2024-12-03T14:22:38.005096Z",
     "start_time": "2024-12-03T14:22:36.366626Z"
    }
   },
   "cell_type": "code",
   "source": [
    "def variation_three(n_value: int) -> int:\n",
    "    total = 0\n",
    "\n",
    "    index_outer = 1\n",
    "    while index_outer < n_value:\n",
    "        index_inner = 0\n",
    "        while index_inner < n_value:\n",
    "            total += 1\n",
    "\n",
    "            index_inner += 1\n",
    "        index_outer *= 2\n",
    "\n",
    "    return total\n",
    "\n",
    "print_result(variation_three)"
   ],
   "id": "6bfcb655c4bdde12",
   "outputs": [
    {
     "name": "stdout",
     "output_type": "stream",
     "text": [
      "n: 1 \n",
      " result: 0 \n",
      " time taken: 2.340000355616212e-05 \n",
      "\n",
      "n: 5 \n",
      " result: 15 \n",
      " time taken: 0.00012849998893216252 \n",
      "\n",
      "n: 10 \n",
      " result: 40 \n",
      " time taken: 0.00033980002626776695 \n",
      "\n",
      "n: 20 \n",
      " result: 100 \n",
      " time taken: 0.0005204000044614077 \n",
      "\n",
      "n: 50 \n",
      " result: 300 \n",
      " time taken: 0.0018501000013202429 \n",
      "\n",
      "n: 100 \n",
      " result: 700 \n",
      " time taken: 0.003521099977660924 \n",
      "\n",
      "n: 200 \n",
      " result: 1600 \n",
      " time taken: 0.008636399987153709 \n",
      "\n",
      "n: 500 \n",
      " result: 4500 \n",
      " time taken: 0.0350670000188984 \n",
      "\n",
      "n: 1000 \n",
      " result: 10000 \n",
      " time taken: 0.05977540003368631 \n",
      "\n",
      "n: 2000 \n",
      " result: 22000 \n",
      " time taken: 0.1343502000090666 \n",
      "\n",
      "n: 5000 \n",
      " result: 65000 \n",
      " time taken: 0.44675320002716035 \n",
      "\n",
      "n: 10000 \n",
      " result: 140000 \n",
      " time taken: 0.9182244999683462 \n",
      "\n"
     ]
    }
   ],
   "execution_count": 22
  },
  {
   "metadata": {},
   "cell_type": "markdown",
   "source": "# Variatie 4",
   "id": "8cdaf50b2e2d840d"
  },
  {
   "metadata": {
    "ExecuteTime": {
     "end_time": "2024-12-03T14:22:41.804202Z",
     "start_time": "2024-12-03T14:22:41.570452Z"
    }
   },
   "cell_type": "code",
   "source": [
    "def variation_four(n_value: int) -> int:\n",
    "    total = 0\n",
    "\n",
    "    index_outer = 1\n",
    "    while index_outer < n_value:\n",
    "        index_inner = 0\n",
    "        while index_inner < index_outer:\n",
    "            total += 1\n",
    "\n",
    "            index_inner += 1\n",
    "        index_outer *= 2\n",
    "\n",
    "    return total\n",
    "\n",
    "print_result(variation_four)"
   ],
   "id": "692fce7ac15a4d26",
   "outputs": [
    {
     "name": "stdout",
     "output_type": "stream",
     "text": [
      "n: 1 \n",
      " result: 0 \n",
      " time taken: 2.3200002033263445e-05 \n",
      "\n",
      "n: 5 \n",
      " result: 7 \n",
      " time taken: 9.809999028220773e-05 \n",
      "\n",
      "n: 10 \n",
      " result: 15 \n",
      " time taken: 0.00016379996668547392 \n",
      "\n",
      "n: 20 \n",
      " result: 31 \n",
      " time taken: 0.0002864999696612358 \n",
      "\n",
      "n: 50 \n",
      " result: 63 \n",
      " time taken: 0.0005186999915167689 \n",
      "\n",
      "n: 100 \n",
      " result: 127 \n",
      " time taken: 0.000980400014668703 \n",
      "\n",
      "n: 200 \n",
      " result: 255 \n",
      " time taken: 0.0016672000056132674 \n",
      "\n",
      "n: 500 \n",
      " result: 511 \n",
      " time taken: 0.0028019999735988677 \n",
      "\n",
      "n: 1000 \n",
      " result: 1023 \n",
      " time taken: 0.009593199996743351 \n",
      "\n",
      "n: 2000 \n",
      " result: 2047 \n",
      " time taken: 0.01663659996120259 \n",
      "\n",
      "n: 5000 \n",
      " result: 8191 \n",
      " time taken: 0.053771100006997585 \n",
      "\n",
      "n: 10000 \n",
      " result: 16383 \n",
      " time taken: 0.12401630001841113 \n",
      "\n"
     ]
    }
   ],
   "execution_count": 23
  },
  {
   "metadata": {},
   "cell_type": "markdown",
   "source": "# Variatie 5",
   "id": "938e68f0cd7473bc"
  },
  {
   "metadata": {
    "ExecuteTime": {
     "end_time": "2024-12-03T14:23:13.031421Z",
     "start_time": "2024-12-03T14:23:13.014606Z"
    }
   },
   "cell_type": "code",
   "source": [
    "def variation_five(n_value: int) -> int:\n",
    "    total = 0\n",
    "\n",
    "    index_outer = 1\n",
    "    while index_outer < n_value:\n",
    "        index_inner = 1\n",
    "        while index_inner < n_value:\n",
    "            total += 1\n",
    "\n",
    "            index_inner *= 2\n",
    "        index_outer *= 2\n",
    "\n",
    "    return total\n",
    "\n",
    "print_result(variation_five)"
   ],
   "id": "38b094135ba342f2",
   "outputs": [
    {
     "name": "stdout",
     "output_type": "stream",
     "text": [
      "n: 1 \n",
      " result: 0 \n",
      " time taken: 1.7499958630651236e-05 \n",
      "\n",
      "n: 5 \n",
      " result: 9 \n",
      " time taken: 9.139999747276306e-05 \n",
      "\n",
      "n: 10 \n",
      " result: 16 \n",
      " time taken: 0.00010820000898092985 \n",
      "\n",
      "n: 20 \n",
      " result: 25 \n",
      " time taken: 0.00015330000314861536 \n",
      "\n",
      "n: 50 \n",
      " result: 36 \n",
      " time taken: 0.0002245000214315951 \n",
      "\n",
      "n: 100 \n",
      " result: 49 \n",
      " time taken: 0.00028110004495829344 \n",
      "\n",
      "n: 200 \n",
      " result: 64 \n",
      " time taken: 0.00039790000300854445 \n",
      "\n",
      "n: 500 \n",
      " result: 81 \n",
      " time taken: 0.000443900004029274 \n",
      "\n",
      "n: 1000 \n",
      " result: 100 \n",
      " time taken: 0.0005565999890677631 \n",
      "\n",
      "n: 2000 \n",
      " result: 121 \n",
      " time taken: 0.0008328999974764884 \n",
      "\n",
      "n: 5000 \n",
      " result: 169 \n",
      " time taken: 0.0009746000287123024 \n",
      "\n",
      "n: 10000 \n",
      " result: 196 \n",
      " time taken: 0.0016706999740563333 \n",
      "\n"
     ]
    }
   ],
   "execution_count": 31
  }
 ],
 "metadata": {
  "kernelspec": {
   "display_name": "Python 3",
   "language": "python",
   "name": "python3"
  },
  "language_info": {
   "codemirror_mode": {
    "name": "ipython",
    "version": 2
   },
   "file_extension": ".py",
   "mimetype": "text/x-python",
   "name": "python",
   "nbconvert_exporter": "python",
   "pygments_lexer": "ipython2",
   "version": "2.7.6"
  }
 },
 "nbformat": 4,
 "nbformat_minor": 5
}
